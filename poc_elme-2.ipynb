{
 "cells": [
  {
   "cell_type": "markdown",
   "id": "bea03d00-ee77-43ed-a377-cce40330359f",
   "metadata": {},
   "source": [
    "# Forecast for Elme "
   ]
  },
  {
   "cell_type": "markdown",
   "id": "138a675c-2c67-4543-8b56-4408a8387c53",
   "metadata": {
    "tags": []
   },
   "source": [
    "## Load data "
   ]
  },
  {
   "cell_type": "code",
   "execution_count": 492,
   "id": "4d163706-c90e-466f-beea-f163e1244ce7",
   "metadata": {
    "tags": []
   },
   "outputs": [],
   "source": [
    "%%capture\n",
    "!pip install awswrangler\n",
    "!pip install mlforecast\n",
    "!pip install lightgbm"
   ]
  },
  {
   "cell_type": "code",
   "execution_count": 493,
   "id": "d6be468a-2b83-447a-8af1-6fe0091537e3",
   "metadata": {
    "scrolled": true,
    "tags": []
   },
   "outputs": [],
   "source": [
    "import pandas as pd \n",
    "import numpy as np \n",
    "import os \n",
    "import boto3\n",
    "import awswrangler as wr\n",
    "from statsforecast import StatsForecast\n",
    "import lightgbm as lgb"
   ]
  },
  {
   "cell_type": "code",
   "execution_count": 494,
   "id": "2c941b2c-af0f-4ef2-a288-99a9e1a0344c",
   "metadata": {
    "tags": []
   },
   "outputs": [],
   "source": [
    "s3 = boto3.client('s3')\n",
    "s3_path = 's3://amp-elme-sandbox/elme-filtered-us-ampfind-ovpc-data/time_series/adv_pub_ts_2023_07_24.csv' \n",
    "Y_df = wr.s3.read_csv(s3_path, boto3_session=boto3.Session())\n",
    "Y_df.columns = Y_df.columns.str.lower()"
   ]
  },
  {
   "cell_type": "code",
   "execution_count": 495,
   "id": "267f8fce-eadf-4b89-aedf-69638c0bbdd0",
   "metadata": {
    "tags": []
   },
   "outputs": [],
   "source": [
    "Y_df = Y_df.rename(columns={'click_date': 'ds'})"
   ]
  },
  {
   "cell_type": "markdown",
   "id": "8c4ee57b-525d-4897-9526-67da82af5a54",
   "metadata": {},
   "source": [
    "## Data wrangling"
   ]
  },
  {
   "cell_type": "code",
   "execution_count": 496,
   "id": "ae9dc3d7-3916-4d5b-bb6c-30a595084f20",
   "metadata": {
    "tags": []
   },
   "outputs": [],
   "source": [
    "unique_combs = [\n",
    "    'adv_id',  \n",
    "    'publisher_id',\n",
    "]"
   ]
  },
  {
   "cell_type": "code",
   "execution_count": 497,
   "id": "f3c188a4-25cd-4f38-9bbe-320acc282434",
   "metadata": {
    "tags": []
   },
   "outputs": [],
   "source": [
    "# Create unique ids \n",
    "Y_df['unique_id'] = Y_df[unique_combs].astype(str).apply('_'.join, axis=1)"
   ]
  },
  {
   "cell_type": "code",
   "execution_count": 498,
   "id": "4ac6fff1-c444-4bae-8cf9-a23920a633be",
   "metadata": {
    "tags": []
   },
   "outputs": [],
   "source": [
    "Y_df = Y_df.groupby(['unique_id', 'ds'])[['click_count', 'conv_count', 'order_value']].sum().reset_index()"
   ]
  },
  {
   "cell_type": "code",
   "execution_count": 499,
   "id": "780561d4-7b13-46de-bd60-a76254044609",
   "metadata": {
    "tags": []
   },
   "outputs": [],
   "source": [
    "Y_df['cvr'] = Y_df['conv_count'] / Y_df['click_count']\n",
    "Y_df['aov'] = np.where(Y_df['conv_count'] == 0, 0, Y_df['order_value'] / Y_df['conv_count'])\n",
    "Y_df['aov'] = Y_df['aov'].fillna(0)"
   ]
  },
  {
   "cell_type": "code",
   "execution_count": 500,
   "id": "836ae2b0-5aab-4244-bcf7-1582451ad309",
   "metadata": {
    "tags": []
   },
   "outputs": [
    {
     "data": {
      "text/plain": [
       "unique_id      0.0\n",
       "ds             0.0\n",
       "click_count    0.0\n",
       "conv_count     0.0\n",
       "order_value    0.0\n",
       "cvr            0.0\n",
       "aov            0.0\n",
       "dtype: float64"
      ]
     },
     "execution_count": 500,
     "metadata": {},
     "output_type": "execute_result"
    }
   ],
   "source": [
    "Y_df.isna().mean()"
   ]
  },
  {
   "cell_type": "code",
   "execution_count": 501,
   "id": "28a45b06-d53c-4db1-b430-122fa264aef3",
   "metadata": {
    "tags": []
   },
   "outputs": [],
   "source": [
    "Y_df = pd.melt(\n",
    "    Y_df, \n",
    "    id_vars=['unique_id', 'ds'], \n",
    "    value_vars=['cvr', 'aov'],\n",
    "    var_name='kind',\n",
    "    value_name='y',\n",
    ")"
   ]
  },
  {
   "cell_type": "code",
   "execution_count": 502,
   "id": "95521aee-3476-4a8f-8807-b9d4582d7452",
   "metadata": {
    "tags": []
   },
   "outputs": [],
   "source": [
    "Y_df['unique_id'] = Y_df[['unique_id', 'kind']].agg('_'.join, axis=1)"
   ]
  },
  {
   "cell_type": "code",
   "execution_count": 505,
   "id": "1ce1e279-1d7b-4c5b-a939-015e12b10173",
   "metadata": {
    "tags": []
   },
   "outputs": [],
   "source": [
    "Y_df = Y_df.fillna(0)\n",
    "Y_df = Y_df[Y_df.y != 0]"
   ]
  },
  {
   "cell_type": "markdown",
   "id": "f8db8fda-af50-428b-95be-c66ae7092389",
   "metadata": {},
   "source": [
    "## Fill missing values"
   ]
  },
  {
   "cell_type": "code",
   "execution_count": 506,
   "id": "34f2122d-3ad3-48eb-9591-5cda5eddda3b",
   "metadata": {
    "tags": []
   },
   "outputs": [],
   "source": [
    "def fill_missing_values(df: pd.DataFrame, freq: str, max_date: str, min_date: str = None) -> pd.DataFrame:\n",
    "    # Define a function to fill missing values in the time series data (in this case with 0s)\n",
    "    # Get the minimum date in the DataFrame\n",
    "    min_ds = df['ds'].iloc[0]\n",
    "\n",
    "    # Create a new DataFrame with a complete date range and unique_id\n",
    "    filled_df = pd.DataFrame({\n",
    "        'unique_id': df['unique_id'].iloc[0],\n",
    "        'ds': pd.date_range(min_ds if min_date is None else min_date, max_date, freq=freq)\n",
    "    })\n",
    "\n",
    "    # Convert date columns to strings for merging\n",
    "    filled_df['ds'] = filled_df['ds'].astype(str)\n",
    "    df['ds'] = df['ds'].astype(str)\n",
    "\n",
    "    # Merge the original DataFrame with the filled DataFrame\n",
    "    filled_df = filled_df.merge(df, how='left', on=['unique_id', 'ds'])\n",
    "\n",
    "    # Fill missing 'y' values with 0\n",
    "    filled_df['actual'] = filled_df['y']\n",
    "    filled_df['y'] = filled_df['y'].ffill()\n",
    "\n",
    "    # Convert the 'ds' column back to datetime\n",
    "    filled_df['ds'] = pd.to_datetime(filled_df['ds'])\n",
    "\n",
    "    return filled_df"
   ]
  },
  {
   "cell_type": "code",
   "execution_count": 507,
   "id": "4abaa12e-ccda-466c-a83f-115a5c4d2553",
   "metadata": {
    "tags": []
   },
   "outputs": [
    {
     "data": {
      "text/plain": [
       "'2023-07-23'"
      ]
     },
     "execution_count": 507,
     "metadata": {},
     "output_type": "execute_result"
    }
   ],
   "source": [
    "Y_df['ds'].max()"
   ]
  },
  {
   "cell_type": "code",
   "execution_count": 511,
   "id": "6e5d8769-57b1-4d83-bd3a-ff48b42be44e",
   "metadata": {
    "tags": []
   },
   "outputs": [],
   "source": [
    "total_df = Y_df.groupby('unique_id').apply(fill_missing_values, \"D\", '2023-07-23').reset_index(drop=True)"
   ]
  },
  {
   "cell_type": "markdown",
   "id": "110f8226-7158-4849-aed1-9960e4f73f23",
   "metadata": {},
   "source": [
    "### Load data here to skip EDA"
   ]
  },
  {
   "cell_type": "code",
   "execution_count": 512,
   "id": "c24e3333-47b0-4b71-b7b1-1b1f3a8259b1",
   "metadata": {
    "tags": []
   },
   "outputs": [],
   "source": [
    "total_df = total_df.sort_values(['unique_id', 'ds'])"
   ]
  },
  {
   "cell_type": "markdown",
   "id": "246103a3-f9d5-41d6-9165-ca04481e1114",
   "metadata": {
    "tags": []
   },
   "source": [
    "## Modeling"
   ]
  },
  {
   "cell_type": "code",
   "execution_count": 513,
   "id": "31d1e6f5-ade0-4fae-a801-1b063e4ded57",
   "metadata": {
    "tags": []
   },
   "outputs": [],
   "source": [
    "total_df.kind = total_df['unique_id'].str[-3:]\n",
    "total_df['kind'] = total_df['kind'].replace('vpc', 'ovpc')"
   ]
  },
  {
   "cell_type": "code",
   "execution_count": 520,
   "id": "ebabbdf5-64e5-4a54-a4ce-f6303dd313f7",
   "metadata": {
    "tags": []
   },
   "outputs": [],
   "source": [
    "# Remove all series that have had no sales in the last quarter (Q1 2023)\n",
    "dates_lastQ = pd.date_range(start = '2023-05-01', end = '2023-06-30', freq = 'D').astype('str')\n",
    "\n",
    "total_df['ds'] = total_df['ds'].astype('str')\n",
    "train_df_wide = pd.pivot(total_df.query('kind == \"cvr\"'), index=['unique_id'], columns='ds', values='y')\n",
    "train_df_wide['total'] = train_df_wide[dates_lastQ].sum(axis=1)\n",
    "train_df_wide = train_df_wide[train_df_wide['total'] > 0]\n",
    "train_df_wide = train_df_wide.reset_index()\n",
    "total_df['ds'] = pd.to_datetime(total_df['ds'])"
   ]
  },
  {
   "cell_type": "code",
   "execution_count": null,
   "id": "214d7e38-a035-49bc-9f44-3b33c28a71ee",
   "metadata": {
    "scrolled": true,
    "tags": []
   },
   "outputs": [
    {
     "name": "stdout",
     "output_type": "stream",
     "text": [
      "There are 322 time series that have had at least one sale in Q1 2023\n",
      "This number represents 49.24% of the original number of time series\n"
     ]
    }
   ],
   "source": [
    "ids_ts = train_df_wide['unique_id'].unique()\n",
    "ids_ts = [id_.replace('_cvr', '') for id_ in ids_ts]"
   ]
  },
  {
   "cell_type": "code",
   "execution_count": 454,
   "id": "dda4cb98-a41c-4ad2-aafa-b877ff172ee2",
   "metadata": {
    "tags": []
   },
   "outputs": [],
   "source": [
    "total_df['id'] = total_df['unique_id'].str.replace('_cvr', '').str.replace('_aov', '').str.replace('_ovpc', '')"
   ]
  },
  {
   "cell_type": "code",
   "execution_count": 456,
   "id": "79332d14-19f4-4497-827e-3756ceb1bbcd",
   "metadata": {
    "tags": []
   },
   "outputs": [],
   "source": [
    "total_sub_df = total_df.query('id in @ids_ts')"
   ]
  },
  {
   "cell_type": "code",
   "execution_count": 460,
   "id": "3de8b442-52d5-43a9-bb24-b7efed2c10ee",
   "metadata": {
    "tags": []
   },
   "outputs": [],
   "source": [
    "# remove series with less than 7 values\n",
    "uids_to_remove = total_sub_df.groupby('unique_id').size().loc[lambda x: x <= 7 * 5].index\n",
    "total_sub_df = total_sub_df.query('unique_id not in @uids_to_remove')"
   ]
  },
  {
   "cell_type": "markdown",
   "id": "d2692ca4-b181-41d4-8a53-5c9649ab0dd2",
   "metadata": {},
   "source": [
    "## MLForecast"
   ]
  },
  {
   "cell_type": "code",
   "execution_count": 463,
   "id": "eb5ebf47-a3d6-44eb-8786-fec7a5677fe5",
   "metadata": {
    "tags": []
   },
   "outputs": [],
   "source": [
    "from mlforecast import MLForecast\n",
    "from lightgbm import LGBMRegressor\n",
    "from sklearn.linear_model import Lasso, LinearRegression, Ridge\n",
    "from sklearn.neighbors import KNeighborsRegressor\n",
    "from sklearn.neural_network import MLPRegressor\n",
    "from mlforecast.target_transforms import BaseTargetTransform, Differences\n",
    "from window_ops.expanding import expanding_mean\n",
    "from window_ops.rolling import rolling_mean\n",
    "from numba import njit\n",
    "\n",
    "@njit\n",
    "def rolling_mean_7(x):\n",
    "    return rolling_mean(x, window_size=7)\n",
    "\n",
    "@njit\n",
    "def rolling_mean_14(x):\n",
    "    return rolling_mean(x, window_size=14)\n",
    "\n",
    "@njit\n",
    "def rolling_mean_28(x):\n",
    "    return rolling_mean(x, window_size=28)"
   ]
  },
  {
   "cell_type": "code",
   "execution_count": 464,
   "id": "a5071964-3c61-4979-aae3-a1e2065d20d8",
   "metadata": {
    "tags": []
   },
   "outputs": [],
   "source": [
    "mlf = MLForecast(\n",
    "    models={'LGBM': LGBMRegressor(objective='mape')},\n",
    "    freq='D',\n",
    "    lags=[1, 7, 14, 28],\n",
    "    # lag_transforms={\n",
    "    #     1: [expanding_mean],\n",
    "    #     7: [rolling_mean_7, rolling_mean_14, rolling_mean_28],\n",
    "    #     14: [rolling_mean_7, rolling_mean_14, rolling_mean_28],\n",
    "    #     28: [rolling_mean_7, rolling_mean_14, rolling_mean_28]\n",
    "    # },\n",
    "    target_transforms=[Differences([1])],\n",
    "    date_features=['quarter', 'month', 'week', 'dayofweek']\n",
    ")"
   ]
  },
  {
   "cell_type": "code",
   "execution_count": 465,
   "id": "df5850cd-8204-43f9-8b60-7e331f25b6bc",
   "metadata": {
    "tags": []
   },
   "outputs": [],
   "source": [
    "mlf_fcst = mlf.cross_validation(\n",
    "    total_sub_df[['unique_id', 'ds', 'y']], \n",
    "    window_size=7,\n",
    "    n_windows=4, \n",
    "    step_size=7, \n",
    "    refit=False\n",
    ")"
   ]
  },
  {
   "cell_type": "code",
   "execution_count": 466,
   "id": "8954f1d6-a5db-4824-9ed2-c226e85f6c94",
   "metadata": {
    "tags": []
   },
   "outputs": [
    {
     "data": {
      "text/html": [
       "<div>\n",
       "<style scoped>\n",
       "    .dataframe tbody tr th:only-of-type {\n",
       "        vertical-align: middle;\n",
       "    }\n",
       "\n",
       "    .dataframe tbody tr th {\n",
       "        vertical-align: top;\n",
       "    }\n",
       "\n",
       "    .dataframe thead th {\n",
       "        text-align: right;\n",
       "    }\n",
       "</style>\n",
       "<table border=\"1\" class=\"dataframe\">\n",
       "  <thead>\n",
       "    <tr style=\"text-align: right;\">\n",
       "      <th></th>\n",
       "      <th>unique_id</th>\n",
       "      <th>ds</th>\n",
       "      <th>cutoff</th>\n",
       "      <th>y</th>\n",
       "      <th>LGBM</th>\n",
       "      <th>actual</th>\n",
       "    </tr>\n",
       "  </thead>\n",
       "  <tbody>\n",
       "    <tr>\n",
       "      <th>14</th>\n",
       "      <td>73804_10915_aov</td>\n",
       "      <td>2023-06-26</td>\n",
       "      <td>2023-06-25</td>\n",
       "      <td>396.933333</td>\n",
       "      <td>229.500000</td>\n",
       "      <td>396.933333</td>\n",
       "    </tr>\n",
       "    <tr>\n",
       "      <th>16</th>\n",
       "      <td>73804_10915_aov</td>\n",
       "      <td>2023-06-28</td>\n",
       "      <td>2023-06-25</td>\n",
       "      <td>406.100000</td>\n",
       "      <td>229.500000</td>\n",
       "      <td>406.100000</td>\n",
       "    </tr>\n",
       "    <tr>\n",
       "      <th>18</th>\n",
       "      <td>73804_10915_aov</td>\n",
       "      <td>2023-06-30</td>\n",
       "      <td>2023-06-25</td>\n",
       "      <td>142.200000</td>\n",
       "      <td>229.500000</td>\n",
       "      <td>142.200000</td>\n",
       "    </tr>\n",
       "    <tr>\n",
       "      <th>19</th>\n",
       "      <td>73804_10915_aov</td>\n",
       "      <td>2023-07-01</td>\n",
       "      <td>2023-06-25</td>\n",
       "      <td>206.280000</td>\n",
       "      <td>229.500000</td>\n",
       "      <td>206.280000</td>\n",
       "    </tr>\n",
       "    <tr>\n",
       "      <th>21</th>\n",
       "      <td>73804_10915_cvr</td>\n",
       "      <td>2023-06-26</td>\n",
       "      <td>2023-06-25</td>\n",
       "      <td>0.054545</td>\n",
       "      <td>0.031957</td>\n",
       "      <td>0.054545</td>\n",
       "    </tr>\n",
       "    <tr>\n",
       "      <th>...</th>\n",
       "      <td>...</td>\n",
       "      <td>...</td>\n",
       "      <td>...</td>\n",
       "      <td>...</td>\n",
       "      <td>...</td>\n",
       "      <td>...</td>\n",
       "    </tr>\n",
       "    <tr>\n",
       "      <th>17928</th>\n",
       "      <td>8654_12911_cvr</td>\n",
       "      <td>2023-07-18</td>\n",
       "      <td>2023-07-16</td>\n",
       "      <td>0.071942</td>\n",
       "      <td>0.048800</td>\n",
       "      <td>0.071942</td>\n",
       "    </tr>\n",
       "    <tr>\n",
       "      <th>17929</th>\n",
       "      <td>8654_12911_cvr</td>\n",
       "      <td>2023-07-19</td>\n",
       "      <td>2023-07-16</td>\n",
       "      <td>0.059880</td>\n",
       "      <td>0.049344</td>\n",
       "      <td>0.059880</td>\n",
       "    </tr>\n",
       "    <tr>\n",
       "      <th>17930</th>\n",
       "      <td>8654_12911_cvr</td>\n",
       "      <td>2023-07-20</td>\n",
       "      <td>2023-07-16</td>\n",
       "      <td>0.059603</td>\n",
       "      <td>0.048788</td>\n",
       "      <td>0.059603</td>\n",
       "    </tr>\n",
       "    <tr>\n",
       "      <th>17931</th>\n",
       "      <td>8654_12911_cvr</td>\n",
       "      <td>2023-07-21</td>\n",
       "      <td>2023-07-16</td>\n",
       "      <td>0.062827</td>\n",
       "      <td>0.048894</td>\n",
       "      <td>0.062827</td>\n",
       "    </tr>\n",
       "    <tr>\n",
       "      <th>17932</th>\n",
       "      <td>8654_12911_cvr</td>\n",
       "      <td>2023-07-22</td>\n",
       "      <td>2023-07-16</td>\n",
       "      <td>0.057416</td>\n",
       "      <td>0.048947</td>\n",
       "      <td>0.057416</td>\n",
       "    </tr>\n",
       "  </tbody>\n",
       "</table>\n",
       "<p>4362 rows × 6 columns</p>\n",
       "</div>"
      ],
      "text/plain": [
       "             unique_id         ds     cutoff           y        LGBM  \\\n",
       "14     73804_10915_aov 2023-06-26 2023-06-25  396.933333  229.500000   \n",
       "16     73804_10915_aov 2023-06-28 2023-06-25  406.100000  229.500000   \n",
       "18     73804_10915_aov 2023-06-30 2023-06-25  142.200000  229.500000   \n",
       "19     73804_10915_aov 2023-07-01 2023-06-25  206.280000  229.500000   \n",
       "21     73804_10915_cvr 2023-06-26 2023-06-25    0.054545    0.031957   \n",
       "...                ...        ...        ...         ...         ...   \n",
       "17928   8654_12911_cvr 2023-07-18 2023-07-16    0.071942    0.048800   \n",
       "17929   8654_12911_cvr 2023-07-19 2023-07-16    0.059880    0.049344   \n",
       "17930   8654_12911_cvr 2023-07-20 2023-07-16    0.059603    0.048788   \n",
       "17931   8654_12911_cvr 2023-07-21 2023-07-16    0.062827    0.048894   \n",
       "17932   8654_12911_cvr 2023-07-22 2023-07-16    0.057416    0.048947   \n",
       "\n",
       "           actual  \n",
       "14     396.933333  \n",
       "16     406.100000  \n",
       "18     142.200000  \n",
       "19     206.280000  \n",
       "21       0.054545  \n",
       "...           ...  \n",
       "17928    0.071942  \n",
       "17929    0.059880  \n",
       "17930    0.059603  \n",
       "17931    0.062827  \n",
       "17932    0.057416  \n",
       "\n",
       "[4362 rows x 6 columns]"
      ]
     },
     "execution_count": 466,
     "metadata": {},
     "output_type": "execute_result"
    }
   ],
   "source": [
    "cv_df = mlf_fcst.merge(total_sub_df[[\"unique_id\", 'ds', 'actual']])\n",
    "cv_df = cv_df.dropna()\n",
    "cv_df"
   ]
  },
  {
   "cell_type": "code",
   "execution_count": 467,
   "id": "9ca99311-13eb-4eb9-bf40-ba21b3d9cc4c",
   "metadata": {
    "tags": []
   },
   "outputs": [
    {
     "name": "stdout",
     "output_type": "stream",
     "text": [
      "MAPE using cross-validation:  73.29174331821473\n"
     ]
    }
   ],
   "source": [
    "def mape(actuals, predictions):\n",
    "    errors = np.abs((actuals - predictions) / actuals)\n",
    "    mape = np.mean(errors) * 100\n",
    "    return mape\n",
    "\n",
    "cv_rmse = cv_df.groupby(['unique_id', 'cutoff']).apply(lambda df: mape(df['y'], df['LGBM'])).mean()\n",
    "print(\"MAPE using cross-validation: \", cv_rmse)"
   ]
  },
  {
   "cell_type": "code",
   "execution_count": 479,
   "id": "19d6bce6-3b6e-4bc9-b891-b75f234030a4",
   "metadata": {
    "tags": []
   },
   "outputs": [],
   "source": [
    "train_df = total_sub_df[total_sub_df['ds'] <= pd.Timestamp('2023-06-29')]\n",
    "test_df = total_sub_df[(total_sub_df['ds'] >= pd.Timestamp('2023-06-30')) & (total_sub_df['ds'] <= pd.Timestamp('2023-07-23'))]"
   ]
  },
  {
   "cell_type": "code",
   "execution_count": 480,
   "id": "6983646d-ac93-44a5-8fd9-db5899802713",
   "metadata": {
    "tags": []
   },
   "outputs": [
    {
     "data": {
      "text/plain": [
       "MLForecast(models=[LGBM], freq=<Day>, lag_features=['lag1', 'lag7', 'lag14', 'lag28'], date_features=['quarter', 'month', 'week', 'dayofweek'], num_threads=1)"
      ]
     },
     "execution_count": 480,
     "metadata": {},
     "output_type": "execute_result"
    }
   ],
   "source": [
    "mlf.fit(train_df[['unique_id', 'ds', 'y']])"
   ]
  },
  {
   "cell_type": "code",
   "execution_count": 481,
   "id": "e0986d28-415e-4938-9e97-6a3fd47f158f",
   "metadata": {
    "tags": []
   },
   "outputs": [
    {
     "data": {
      "text/plain": [
       "Timestamp('2023-05-31 00:00:00')"
      ]
     },
     "execution_count": 481,
     "metadata": {},
     "output_type": "execute_result"
    }
   ],
   "source": [
    "test_days[0]"
   ]
  },
  {
   "cell_type": "code",
   "execution_count": 482,
   "id": "38351f04-19a6-4a2e-9f7d-20a4ab7e8035",
   "metadata": {
    "tags": []
   },
   "outputs": [],
   "source": [
    "total_prediction_days = pd.Series(test_df.ds.unique()).sort_values()\n",
    "data = total_sub_df[['unique_id', 'ds', 'y', 'actual']]\n",
    "\n",
    "def update_data (old_data, new_data):\n",
    "    new_data = pd.concat([old_data, new_data], ignore_index=True)\n",
    "    return new_data\n",
    "\n",
    "def predict_current_date (model):\n",
    "    predictions = model.predict(1)\n",
    "    current_day_prediction = predictions.merge(data, on=['unique_id', 'ds'], how='left')\n",
    "    current_day_prediction = current_day_prediction[['unique_id', 'ds', 'LGBM', 'actual']].rename(columns={'LGBM': 'y'})\n",
    "    return current_day_prediction\n",
    "\n",
    "def predict_next_date (model, previous_data):\n",
    "    current_prediction = predict_current_date(model)\n",
    "    new_data = update_data(previous_data, current_prediction)\n",
    "    predictions = mlf.predict(horizon=1, new_data=new_data[['unique_id', 'ds', 'y']])\n",
    "    predictions_df = predictions.merge(data, on=['unique_id', 'ds'], how='left')\n",
    "    return predictions_df\n",
    "\n",
    "\n",
    "previous_data = data[(data['ds'].dt.date <= total_prediction_days[0].date() - timedelta(days=1)) & (data['ds'].dt.date >= total_prediction_days[0].date() - timedelta(days=31))]\n",
    "pred_df = predict_next_date(mlf, previous_data)\n",
    "\n",
    "for day in total_prediction_days[:-1]:\n",
    "    previous_data = data[(data['ds'].dt.date <= day.date() - timedelta(days=1)) & (data['ds'].dt.date >= day.date() - timedelta(days=31))]\n",
    "    predictions_df = predict_next_date(mlf, previous_data)\n",
    "    pred_df = pd.concat([pred_df, predictions_df], ignore_index=True)"
   ]
  },
  {
   "cell_type": "code",
   "execution_count": 483,
   "id": "c3236474-2dda-4f14-a15d-7e40b7128830",
   "metadata": {
    "tags": []
   },
   "outputs": [],
   "source": [
    "forecast = pred_df[pred_df.y !=0].dropna().drop(columns = [\"actual\"])"
   ]
  },
  {
   "cell_type": "code",
   "execution_count": 484,
   "id": "2108c54e-4b9a-4f76-a20a-cd88b2ea0845",
   "metadata": {
    "tags": []
   },
   "outputs": [
    {
     "data": {
      "text/html": [
       "<div>\n",
       "<style scoped>\n",
       "    .dataframe tbody tr th:only-of-type {\n",
       "        vertical-align: middle;\n",
       "    }\n",
       "\n",
       "    .dataframe tbody tr th {\n",
       "        vertical-align: top;\n",
       "    }\n",
       "\n",
       "    .dataframe thead th {\n",
       "        text-align: right;\n",
       "    }\n",
       "</style>\n",
       "<table border=\"1\" class=\"dataframe\">\n",
       "  <thead>\n",
       "    <tr style=\"text-align: right;\">\n",
       "      <th></th>\n",
       "      <th>unique_id</th>\n",
       "      <th>ds</th>\n",
       "      <th>LGBM</th>\n",
       "      <th>y</th>\n",
       "    </tr>\n",
       "  </thead>\n",
       "  <tbody>\n",
       "    <tr>\n",
       "      <th>2</th>\n",
       "      <td>73804_10915_aov</td>\n",
       "      <td>2023-07-01</td>\n",
       "      <td>406.100000</td>\n",
       "      <td>206.280000</td>\n",
       "    </tr>\n",
       "    <tr>\n",
       "      <th>3</th>\n",
       "      <td>73804_10915_cvr</td>\n",
       "      <td>2023-07-01</td>\n",
       "      <td>0.022589</td>\n",
       "      <td>0.016393</td>\n",
       "    </tr>\n",
       "    <tr>\n",
       "      <th>8</th>\n",
       "      <td>73804_11622_aov</td>\n",
       "      <td>2023-07-01</td>\n",
       "      <td>278.000000</td>\n",
       "      <td>292.300000</td>\n",
       "    </tr>\n",
       "    <tr>\n",
       "      <th>9</th>\n",
       "      <td>73804_11622_cvr</td>\n",
       "      <td>2023-07-01</td>\n",
       "      <td>0.014286</td>\n",
       "      <td>0.023529</td>\n",
       "    </tr>\n",
       "    <tr>\n",
       "      <th>30</th>\n",
       "      <td>73804_12755_aov</td>\n",
       "      <td>2023-07-01</td>\n",
       "      <td>576.342000</td>\n",
       "      <td>318.545000</td>\n",
       "    </tr>\n",
       "    <tr>\n",
       "      <th>...</th>\n",
       "      <td>...</td>\n",
       "      <td>...</td>\n",
       "      <td>...</td>\n",
       "      <td>...</td>\n",
       "    </tr>\n",
       "    <tr>\n",
       "      <th>15385</th>\n",
       "      <td>8654_12845_cvr</td>\n",
       "      <td>2023-07-22</td>\n",
       "      <td>0.055169</td>\n",
       "      <td>0.075163</td>\n",
       "    </tr>\n",
       "    <tr>\n",
       "      <th>15392</th>\n",
       "      <td>8654_12883_aov</td>\n",
       "      <td>2023-07-22</td>\n",
       "      <td>121.249677</td>\n",
       "      <td>93.682273</td>\n",
       "    </tr>\n",
       "    <tr>\n",
       "      <th>15393</th>\n",
       "      <td>8654_12883_cvr</td>\n",
       "      <td>2023-07-22</td>\n",
       "      <td>0.115877</td>\n",
       "      <td>0.108374</td>\n",
       "    </tr>\n",
       "    <tr>\n",
       "      <th>15400</th>\n",
       "      <td>8654_12911_aov</td>\n",
       "      <td>2023-07-22</td>\n",
       "      <td>175.184165</td>\n",
       "      <td>135.321667</td>\n",
       "    </tr>\n",
       "    <tr>\n",
       "      <th>15401</th>\n",
       "      <td>8654_12911_cvr</td>\n",
       "      <td>2023-07-22</td>\n",
       "      <td>0.063260</td>\n",
       "      <td>0.057416</td>\n",
       "    </tr>\n",
       "  </tbody>\n",
       "</table>\n",
       "<p>3806 rows × 4 columns</p>\n",
       "</div>"
      ],
      "text/plain": [
       "             unique_id         ds        LGBM           y\n",
       "2      73804_10915_aov 2023-07-01  406.100000  206.280000\n",
       "3      73804_10915_cvr 2023-07-01    0.022589    0.016393\n",
       "8      73804_11622_aov 2023-07-01  278.000000  292.300000\n",
       "9      73804_11622_cvr 2023-07-01    0.014286    0.023529\n",
       "30     73804_12755_aov 2023-07-01  576.342000  318.545000\n",
       "...                ...        ...         ...         ...\n",
       "15385   8654_12845_cvr 2023-07-22    0.055169    0.075163\n",
       "15392   8654_12883_aov 2023-07-22  121.249677   93.682273\n",
       "15393   8654_12883_cvr 2023-07-22    0.115877    0.108374\n",
       "15400   8654_12911_aov 2023-07-22  175.184165  135.321667\n",
       "15401   8654_12911_cvr 2023-07-22    0.063260    0.057416\n",
       "\n",
       "[3806 rows x 4 columns]"
      ]
     },
     "execution_count": 484,
     "metadata": {},
     "output_type": "execute_result"
    }
   ],
   "source": [
    "forecast"
   ]
  },
  {
   "cell_type": "code",
   "execution_count": 485,
   "id": "d9a47056-aaac-41da-8454-72e2b25f3d37",
   "metadata": {
    "tags": []
   },
   "outputs": [
    {
     "data": {
      "text/plain": [
       "64.36728800061505"
      ]
     },
     "execution_count": 485,
     "metadata": {},
     "output_type": "execute_result"
    }
   ],
   "source": [
    "mape(forecast['y'].values, forecast.LGBM.values)"
   ]
  },
  {
   "cell_type": "code",
   "execution_count": 486,
   "id": "2edacce5-2389-41d0-b7a7-48ad3aae414e",
   "metadata": {
    "tags": []
   },
   "outputs": [],
   "source": [
    "forecast.to_parquet('forecast.parquet')"
   ]
  }
 ],
 "metadata": {
  "availableInstances": [
   {
    "_defaultOrder": 0,
    "_isFastLaunch": true,
    "category": "General purpose",
    "gpuNum": 0,
    "hideHardwareSpecs": false,
    "memoryGiB": 4,
    "name": "ml.t3.medium",
    "vcpuNum": 2
   },
   {
    "_defaultOrder": 1,
    "_isFastLaunch": false,
    "category": "General purpose",
    "gpuNum": 0,
    "hideHardwareSpecs": false,
    "memoryGiB": 8,
    "name": "ml.t3.large",
    "vcpuNum": 2
   },
   {
    "_defaultOrder": 2,
    "_isFastLaunch": false,
    "category": "General purpose",
    "gpuNum": 0,
    "hideHardwareSpecs": false,
    "memoryGiB": 16,
    "name": "ml.t3.xlarge",
    "vcpuNum": 4
   },
   {
    "_defaultOrder": 3,
    "_isFastLaunch": false,
    "category": "General purpose",
    "gpuNum": 0,
    "hideHardwareSpecs": false,
    "memoryGiB": 32,
    "name": "ml.t3.2xlarge",
    "vcpuNum": 8
   },
   {
    "_defaultOrder": 4,
    "_isFastLaunch": true,
    "category": "General purpose",
    "gpuNum": 0,
    "hideHardwareSpecs": false,
    "memoryGiB": 8,
    "name": "ml.m5.large",
    "vcpuNum": 2
   },
   {
    "_defaultOrder": 5,
    "_isFastLaunch": false,
    "category": "General purpose",
    "gpuNum": 0,
    "hideHardwareSpecs": false,
    "memoryGiB": 16,
    "name": "ml.m5.xlarge",
    "vcpuNum": 4
   },
   {
    "_defaultOrder": 6,
    "_isFastLaunch": false,
    "category": "General purpose",
    "gpuNum": 0,
    "hideHardwareSpecs": false,
    "memoryGiB": 32,
    "name": "ml.m5.2xlarge",
    "vcpuNum": 8
   },
   {
    "_defaultOrder": 7,
    "_isFastLaunch": false,
    "category": "General purpose",
    "gpuNum": 0,
    "hideHardwareSpecs": false,
    "memoryGiB": 64,
    "name": "ml.m5.4xlarge",
    "vcpuNum": 16
   },
   {
    "_defaultOrder": 8,
    "_isFastLaunch": false,
    "category": "General purpose",
    "gpuNum": 0,
    "hideHardwareSpecs": false,
    "memoryGiB": 128,
    "name": "ml.m5.8xlarge",
    "vcpuNum": 32
   },
   {
    "_defaultOrder": 9,
    "_isFastLaunch": false,
    "category": "General purpose",
    "gpuNum": 0,
    "hideHardwareSpecs": false,
    "memoryGiB": 192,
    "name": "ml.m5.12xlarge",
    "vcpuNum": 48
   },
   {
    "_defaultOrder": 10,
    "_isFastLaunch": false,
    "category": "General purpose",
    "gpuNum": 0,
    "hideHardwareSpecs": false,
    "memoryGiB": 256,
    "name": "ml.m5.16xlarge",
    "vcpuNum": 64
   },
   {
    "_defaultOrder": 11,
    "_isFastLaunch": false,
    "category": "General purpose",
    "gpuNum": 0,
    "hideHardwareSpecs": false,
    "memoryGiB": 384,
    "name": "ml.m5.24xlarge",
    "vcpuNum": 96
   },
   {
    "_defaultOrder": 12,
    "_isFastLaunch": false,
    "category": "General purpose",
    "gpuNum": 0,
    "hideHardwareSpecs": false,
    "memoryGiB": 8,
    "name": "ml.m5d.large",
    "vcpuNum": 2
   },
   {
    "_defaultOrder": 13,
    "_isFastLaunch": false,
    "category": "General purpose",
    "gpuNum": 0,
    "hideHardwareSpecs": false,
    "memoryGiB": 16,
    "name": "ml.m5d.xlarge",
    "vcpuNum": 4
   },
   {
    "_defaultOrder": 14,
    "_isFastLaunch": false,
    "category": "General purpose",
    "gpuNum": 0,
    "hideHardwareSpecs": false,
    "memoryGiB": 32,
    "name": "ml.m5d.2xlarge",
    "vcpuNum": 8
   },
   {
    "_defaultOrder": 15,
    "_isFastLaunch": false,
    "category": "General purpose",
    "gpuNum": 0,
    "hideHardwareSpecs": false,
    "memoryGiB": 64,
    "name": "ml.m5d.4xlarge",
    "vcpuNum": 16
   },
   {
    "_defaultOrder": 16,
    "_isFastLaunch": false,
    "category": "General purpose",
    "gpuNum": 0,
    "hideHardwareSpecs": false,
    "memoryGiB": 128,
    "name": "ml.m5d.8xlarge",
    "vcpuNum": 32
   },
   {
    "_defaultOrder": 17,
    "_isFastLaunch": false,
    "category": "General purpose",
    "gpuNum": 0,
    "hideHardwareSpecs": false,
    "memoryGiB": 192,
    "name": "ml.m5d.12xlarge",
    "vcpuNum": 48
   },
   {
    "_defaultOrder": 18,
    "_isFastLaunch": false,
    "category": "General purpose",
    "gpuNum": 0,
    "hideHardwareSpecs": false,
    "memoryGiB": 256,
    "name": "ml.m5d.16xlarge",
    "vcpuNum": 64
   },
   {
    "_defaultOrder": 19,
    "_isFastLaunch": false,
    "category": "General purpose",
    "gpuNum": 0,
    "hideHardwareSpecs": false,
    "memoryGiB": 384,
    "name": "ml.m5d.24xlarge",
    "vcpuNum": 96
   },
   {
    "_defaultOrder": 20,
    "_isFastLaunch": false,
    "category": "General purpose",
    "gpuNum": 0,
    "hideHardwareSpecs": true,
    "memoryGiB": 0,
    "name": "ml.geospatial.interactive",
    "supportedImageNames": [
     "sagemaker-geospatial-v1-0"
    ],
    "vcpuNum": 0
   },
   {
    "_defaultOrder": 21,
    "_isFastLaunch": true,
    "category": "Compute optimized",
    "gpuNum": 0,
    "hideHardwareSpecs": false,
    "memoryGiB": 4,
    "name": "ml.c5.large",
    "vcpuNum": 2
   },
   {
    "_defaultOrder": 22,
    "_isFastLaunch": false,
    "category": "Compute optimized",
    "gpuNum": 0,
    "hideHardwareSpecs": false,
    "memoryGiB": 8,
    "name": "ml.c5.xlarge",
    "vcpuNum": 4
   },
   {
    "_defaultOrder": 23,
    "_isFastLaunch": false,
    "category": "Compute optimized",
    "gpuNum": 0,
    "hideHardwareSpecs": false,
    "memoryGiB": 16,
    "name": "ml.c5.2xlarge",
    "vcpuNum": 8
   },
   {
    "_defaultOrder": 24,
    "_isFastLaunch": false,
    "category": "Compute optimized",
    "gpuNum": 0,
    "hideHardwareSpecs": false,
    "memoryGiB": 32,
    "name": "ml.c5.4xlarge",
    "vcpuNum": 16
   },
   {
    "_defaultOrder": 25,
    "_isFastLaunch": false,
    "category": "Compute optimized",
    "gpuNum": 0,
    "hideHardwareSpecs": false,
    "memoryGiB": 72,
    "name": "ml.c5.9xlarge",
    "vcpuNum": 36
   },
   {
    "_defaultOrder": 26,
    "_isFastLaunch": false,
    "category": "Compute optimized",
    "gpuNum": 0,
    "hideHardwareSpecs": false,
    "memoryGiB": 96,
    "name": "ml.c5.12xlarge",
    "vcpuNum": 48
   },
   {
    "_defaultOrder": 27,
    "_isFastLaunch": false,
    "category": "Compute optimized",
    "gpuNum": 0,
    "hideHardwareSpecs": false,
    "memoryGiB": 144,
    "name": "ml.c5.18xlarge",
    "vcpuNum": 72
   },
   {
    "_defaultOrder": 28,
    "_isFastLaunch": false,
    "category": "Compute optimized",
    "gpuNum": 0,
    "hideHardwareSpecs": false,
    "memoryGiB": 192,
    "name": "ml.c5.24xlarge",
    "vcpuNum": 96
   },
   {
    "_defaultOrder": 29,
    "_isFastLaunch": true,
    "category": "Accelerated computing",
    "gpuNum": 1,
    "hideHardwareSpecs": false,
    "memoryGiB": 16,
    "name": "ml.g4dn.xlarge",
    "vcpuNum": 4
   },
   {
    "_defaultOrder": 30,
    "_isFastLaunch": false,
    "category": "Accelerated computing",
    "gpuNum": 1,
    "hideHardwareSpecs": false,
    "memoryGiB": 32,
    "name": "ml.g4dn.2xlarge",
    "vcpuNum": 8
   },
   {
    "_defaultOrder": 31,
    "_isFastLaunch": false,
    "category": "Accelerated computing",
    "gpuNum": 1,
    "hideHardwareSpecs": false,
    "memoryGiB": 64,
    "name": "ml.g4dn.4xlarge",
    "vcpuNum": 16
   },
   {
    "_defaultOrder": 32,
    "_isFastLaunch": false,
    "category": "Accelerated computing",
    "gpuNum": 1,
    "hideHardwareSpecs": false,
    "memoryGiB": 128,
    "name": "ml.g4dn.8xlarge",
    "vcpuNum": 32
   },
   {
    "_defaultOrder": 33,
    "_isFastLaunch": false,
    "category": "Accelerated computing",
    "gpuNum": 4,
    "hideHardwareSpecs": false,
    "memoryGiB": 192,
    "name": "ml.g4dn.12xlarge",
    "vcpuNum": 48
   },
   {
    "_defaultOrder": 34,
    "_isFastLaunch": false,
    "category": "Accelerated computing",
    "gpuNum": 1,
    "hideHardwareSpecs": false,
    "memoryGiB": 256,
    "name": "ml.g4dn.16xlarge",
    "vcpuNum": 64
   },
   {
    "_defaultOrder": 35,
    "_isFastLaunch": false,
    "category": "Accelerated computing",
    "gpuNum": 1,
    "hideHardwareSpecs": false,
    "memoryGiB": 61,
    "name": "ml.p3.2xlarge",
    "vcpuNum": 8
   },
   {
    "_defaultOrder": 36,
    "_isFastLaunch": false,
    "category": "Accelerated computing",
    "gpuNum": 4,
    "hideHardwareSpecs": false,
    "memoryGiB": 244,
    "name": "ml.p3.8xlarge",
    "vcpuNum": 32
   },
   {
    "_defaultOrder": 37,
    "_isFastLaunch": false,
    "category": "Accelerated computing",
    "gpuNum": 8,
    "hideHardwareSpecs": false,
    "memoryGiB": 488,
    "name": "ml.p3.16xlarge",
    "vcpuNum": 64
   },
   {
    "_defaultOrder": 38,
    "_isFastLaunch": false,
    "category": "Accelerated computing",
    "gpuNum": 8,
    "hideHardwareSpecs": false,
    "memoryGiB": 768,
    "name": "ml.p3dn.24xlarge",
    "vcpuNum": 96
   },
   {
    "_defaultOrder": 39,
    "_isFastLaunch": false,
    "category": "Memory Optimized",
    "gpuNum": 0,
    "hideHardwareSpecs": false,
    "memoryGiB": 16,
    "name": "ml.r5.large",
    "vcpuNum": 2
   },
   {
    "_defaultOrder": 40,
    "_isFastLaunch": false,
    "category": "Memory Optimized",
    "gpuNum": 0,
    "hideHardwareSpecs": false,
    "memoryGiB": 32,
    "name": "ml.r5.xlarge",
    "vcpuNum": 4
   },
   {
    "_defaultOrder": 41,
    "_isFastLaunch": false,
    "category": "Memory Optimized",
    "gpuNum": 0,
    "hideHardwareSpecs": false,
    "memoryGiB": 64,
    "name": "ml.r5.2xlarge",
    "vcpuNum": 8
   },
   {
    "_defaultOrder": 42,
    "_isFastLaunch": false,
    "category": "Memory Optimized",
    "gpuNum": 0,
    "hideHardwareSpecs": false,
    "memoryGiB": 128,
    "name": "ml.r5.4xlarge",
    "vcpuNum": 16
   },
   {
    "_defaultOrder": 43,
    "_isFastLaunch": false,
    "category": "Memory Optimized",
    "gpuNum": 0,
    "hideHardwareSpecs": false,
    "memoryGiB": 256,
    "name": "ml.r5.8xlarge",
    "vcpuNum": 32
   },
   {
    "_defaultOrder": 44,
    "_isFastLaunch": false,
    "category": "Memory Optimized",
    "gpuNum": 0,
    "hideHardwareSpecs": false,
    "memoryGiB": 384,
    "name": "ml.r5.12xlarge",
    "vcpuNum": 48
   },
   {
    "_defaultOrder": 45,
    "_isFastLaunch": false,
    "category": "Memory Optimized",
    "gpuNum": 0,
    "hideHardwareSpecs": false,
    "memoryGiB": 512,
    "name": "ml.r5.16xlarge",
    "vcpuNum": 64
   },
   {
    "_defaultOrder": 46,
    "_isFastLaunch": false,
    "category": "Memory Optimized",
    "gpuNum": 0,
    "hideHardwareSpecs": false,
    "memoryGiB": 768,
    "name": "ml.r5.24xlarge",
    "vcpuNum": 96
   },
   {
    "_defaultOrder": 47,
    "_isFastLaunch": false,
    "category": "Accelerated computing",
    "gpuNum": 1,
    "hideHardwareSpecs": false,
    "memoryGiB": 16,
    "name": "ml.g5.xlarge",
    "vcpuNum": 4
   },
   {
    "_defaultOrder": 48,
    "_isFastLaunch": false,
    "category": "Accelerated computing",
    "gpuNum": 1,
    "hideHardwareSpecs": false,
    "memoryGiB": 32,
    "name": "ml.g5.2xlarge",
    "vcpuNum": 8
   },
   {
    "_defaultOrder": 49,
    "_isFastLaunch": false,
    "category": "Accelerated computing",
    "gpuNum": 1,
    "hideHardwareSpecs": false,
    "memoryGiB": 64,
    "name": "ml.g5.4xlarge",
    "vcpuNum": 16
   },
   {
    "_defaultOrder": 50,
    "_isFastLaunch": false,
    "category": "Accelerated computing",
    "gpuNum": 1,
    "hideHardwareSpecs": false,
    "memoryGiB": 128,
    "name": "ml.g5.8xlarge",
    "vcpuNum": 32
   },
   {
    "_defaultOrder": 51,
    "_isFastLaunch": false,
    "category": "Accelerated computing",
    "gpuNum": 1,
    "hideHardwareSpecs": false,
    "memoryGiB": 256,
    "name": "ml.g5.16xlarge",
    "vcpuNum": 64
   },
   {
    "_defaultOrder": 52,
    "_isFastLaunch": false,
    "category": "Accelerated computing",
    "gpuNum": 4,
    "hideHardwareSpecs": false,
    "memoryGiB": 192,
    "name": "ml.g5.12xlarge",
    "vcpuNum": 48
   },
   {
    "_defaultOrder": 53,
    "_isFastLaunch": false,
    "category": "Accelerated computing",
    "gpuNum": 4,
    "hideHardwareSpecs": false,
    "memoryGiB": 384,
    "name": "ml.g5.24xlarge",
    "vcpuNum": 96
   },
   {
    "_defaultOrder": 54,
    "_isFastLaunch": false,
    "category": "Accelerated computing",
    "gpuNum": 8,
    "hideHardwareSpecs": false,
    "memoryGiB": 768,
    "name": "ml.g5.48xlarge",
    "vcpuNum": 192
   },
   {
    "_defaultOrder": 55,
    "_isFastLaunch": false,
    "category": "Accelerated computing",
    "gpuNum": 8,
    "hideHardwareSpecs": false,
    "memoryGiB": 1152,
    "name": "ml.p4d.24xlarge",
    "vcpuNum": 96
   },
   {
    "_defaultOrder": 56,
    "_isFastLaunch": false,
    "category": "Accelerated computing",
    "gpuNum": 8,
    "hideHardwareSpecs": false,
    "memoryGiB": 1152,
    "name": "ml.p4de.24xlarge",
    "vcpuNum": 96
   }
  ],
  "instance_type": "ml.m5.12xlarge",
  "kernelspec": {
   "display_name": "Python 3 (Data Science)",
   "language": "python",
   "name": "python3__SAGEMAKER_INTERNAL__arn:aws:sagemaker:us-east-1:081325390199:image/datascience-1.0"
  },
  "language_info": {
   "codemirror_mode": {
    "name": "ipython",
    "version": 3
   },
   "file_extension": ".py",
   "mimetype": "text/x-python",
   "name": "python",
   "nbconvert_exporter": "python",
   "pygments_lexer": "ipython3",
   "version": "3.7.10"
  }
 },
 "nbformat": 4,
 "nbformat_minor": 5
}
